{
 "cells": [
  {
   "cell_type": "code",
   "execution_count": 1,
   "metadata": {},
   "outputs": [],
   "source": [
    "import cv2\n",
    "import pytesseract"
   ]
  },
  {
   "cell_type": "code",
   "execution_count": 2,
   "metadata": {},
   "outputs": [],
   "source": [
    "pytesseract.pytesseract.tesseract_cmd = r\"C:\\\\Program Files\\\\Tesseract-OCR\\\\tesseract.exe\""
   ]
  },
  {
   "attachments": {},
   "cell_type": "markdown",
   "metadata": {},
   "source": [
    "# 中文圖片轉文字 (加上 lang=\"chi_tra\" 參數)"
   ]
  },
  {
   "cell_type": "code",
   "execution_count": 3,
   "metadata": {},
   "outputs": [
    {
     "name": "stdout",
     "output_type": "stream",
     "text": [
      "繼子兵法》是中國最著名的軍事著作 , 我雖已久聞其名 , 卻一直沒什麼機緣\n",
      "研究這個號稱史上最強的上古兵書。直到之前在書店看見一本《華杉講透孫子\n",
      "兵法》, 覺得內容寫得很有意思 ,便買下來帶回部隊裡看 , 用它打發退伍前的\n",
      "最後幾個禮拜。\n",
      "\n",
      "以前我對《孫子兵法》的內容可以說近乎一無所知 , 甚至曾以為它是一本打仗\n",
      "時拿在手邊查閱戰術的工具書。細讀了這本華棚的解讀本後 , 才發覺它是一套\n",
      "完整的、關於競爭的哲學思考框架,看著看著讓我有如醒酬灌頂。裡面提供的\n",
      "很多佈置戰略、擬定戰術的思維 ,不管在任何時空背景下都有很高的參考價\n",
      "值 , 我想這正是《孫子兵法》能流傳三千年 ,至今還是有這麼多人投注心力去\n",
      "研究的原因。\n",
      "\n",
      "\n"
     ]
    }
   ],
   "source": [
    "img = cv2.imread(\"chinese_text.png\")\n",
    "text = pytesseract.image_to_string(img, lang=\"chi_tra\")\n",
    "print(text)"
   ]
  },
  {
   "attachments": {},
   "cell_type": "markdown",
   "metadata": {},
   "source": [
    "# 英文圖片轉文字"
   ]
  },
  {
   "cell_type": "code",
   "execution_count": 4,
   "metadata": {},
   "outputs": [
    {
     "name": "stdout",
     "output_type": "stream",
     "text": [
      "(( BREAKING NEWS )))\n",
      "\n"
     ]
    }
   ],
   "source": [
    "img = cv2.imread(\"english_text.png\")\n",
    "text = pytesseract.image_to_string(img)\n",
    "print(text)"
   ]
  }
 ],
 "metadata": {
  "kernelspec": {
   "display_name": "base",
   "language": "python",
   "name": "python3"
  },
  "language_info": {
   "codemirror_mode": {
    "name": "ipython",
    "version": 3
   },
   "file_extension": ".py",
   "mimetype": "text/x-python",
   "name": "python",
   "nbconvert_exporter": "python",
   "pygments_lexer": "ipython3",
   "version": "3.9.7"
  },
  "orig_nbformat": 4
 },
 "nbformat": 4,
 "nbformat_minor": 2
}
